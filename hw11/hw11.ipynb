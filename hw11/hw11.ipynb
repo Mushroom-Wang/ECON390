{
 "cells": [
  {
   "cell_type": "markdown",
   "metadata": {},
   "source": [
    "# Analysis\n",
    "\n",
    "$\n",
    "u(c) = \\sqrt{c}\n",
    "$\n",
    "where the utility $u$ is the square root of spending $c$.  \n",
    "  \n",
    "The dividend depends on the a Markov Chain.  \n",
    "The state space is $S \\in \\{Expansion,Recession\\}$. Transition Matrix:\n",
    "$T=\\left(\\begin{array}{cc} \n",
    ".8 & .2\\\\ \n",
    ".5 & .5\n",
    "\\end{array}\\right)$.  \n",
    "When expansion, the dividend is 5, and when recession, the dividend is 1.\n",
    "\n",
    "We consider the interest, interest rate $r$ is 0.05. \n",
    "\n",
    "Supposing the total saving (money), dividend, cost, utility at time $t$ are $M_t, D_t, C_t, U_t$ respectively.   \n",
    "The probabilities vector for expansion and recession at time $t$ is $P_t$. $P_t[0]$ is the expansion probability at time $t$, $P_t[1]$ is the recession probability at time $t$.   "
   ]
  },
  {
   "cell_type": "markdown",
   "metadata": {},
   "source": [
    "At beginning, we have $x$ in our saving\n",
    "$$\n",
    "M_0 = x\n",
    "$$\n",
    "\n",
    "For time $t$ where $t \\geq 1$, the saving a person can spend is \n",
    "$$\n",
    "M_t = 1.05 \\times (M_{t-1} - C_{t-1}) + D_t\n",
    "$$\n",
    "Where $D_t$ has $P_t[0]$ to be 5 and $P_t[1]$ to be 1, that means we have 2 sub-problems to consider here. They are\n",
    "$$\n",
    "M_t = 1.05 \\times (M_{t-1} - C_{t-1}) + 5\n",
    "$$\n",
    "with probability $P_t[0]$, and\n",
    "$$\n",
    "M_t = 1.05 \\times (M_{t-1} - C_{t-1}) + 1\n",
    "$$\n",
    "with probability $P_t[1]$.\n",
    "\n",
    "The utility at time $t$ is $U_t = \\sqrt{C_t}$, where $U_t$ subjects to $U_t < M_t$. \n",
    "\n",
    "Supposing at the period $T=40$, a person will spend all his money. Our goal is to find the maximum of expected cumulative utility, which is\n",
    "$$\n",
    "    \\sum_{t=0}^{40} U_t = \\sum_{t=0}^{40} \\sqrt{C_t}\n",
    "$$"
   ]
  },
  {
   "cell_type": "code",
   "execution_count": 1,
   "metadata": {},
   "outputs": [],
   "source": [
    "import numpy as np\n",
    "import matplotlib.pyplot as plt\n",
    "from numba import jit\n",
    "import time"
   ]
  },
  {
   "cell_type": "markdown",
   "metadata": {},
   "source": [
    "# DP \n",
    "At time $t$, $(0 \\leq t < 40)$, we can spend $0 \\leq C_t \\leq M_t$. So we need to consider $M_t$ sub-problems, we only want to calculate every sub-problem once, so we will memorize the result.  "
   ]
  },
  {
   "cell_type": "code",
   "execution_count": 2,
   "metadata": {},
   "outputs": [],
   "source": [
    "total_peroid = 40\n",
    "max_money = 20\n",
    "for _ in range(40):\n",
    "    max_money = 1.05 * max_money + 5\n",
    "# dp_table[T, M, C], one cell store the result of one sub-problem, see top-down for the details of a sub-problem\n",
    "dp_table = np.full([total_peroid, int(max_money), int(max_money)], -1.0)"
   ]
  },
  {
   "cell_type": "markdown",
   "metadata": {},
   "source": [
    "## Get full probability of dividend\n",
    "Supposing when $t=0$, $P_0[0] = P_0[1] = 0.5$"
   ]
  },
  {
   "cell_type": "code",
   "execution_count": 3,
   "metadata": {},
   "outputs": [],
   "source": [
    "P = [np.array([0.5, 0.5])]\n",
    "T = np.array([\n",
    "    [.8, .2], \n",
    "    [.5, .5]\n",
    "])\n",
    "\n",
    "for t in range(total_peroid):\n",
    "    P.append(P[-1].dot(T))"
   ]
  },
  {
   "cell_type": "markdown",
   "metadata": {},
   "source": [
    "## Top-down \n",
    "all int cast is because $c$ can only be integrate. "
   ]
  },
  {
   "cell_type": "code",
   "execution_count": 4,
   "metadata": {},
   "outputs": [],
   "source": [
    "def best_utility(t, M0, C0): \n",
    "    # Expension\n",
    "    M1_e = 1.05 * (M0 - C0) + 5\n",
    "    \n",
    "    # Recession\n",
    "    M1_r = 1.05 * (M0 - C0) + 1\n",
    "    \n",
    "    if t == total_peroid:\n",
    "        return P[-1][0] * int(M1_e) ** 0.5 + P[-1][1] * int(M1_r) ** 0.5\n",
    "    \n",
    "    if dp_table[t, int(M0), C0] >= 0: \n",
    "        return dp_table[t, int(M0), C0]\n",
    "    \n",
    "    best_utility_e = np.max([best_utility(t+1, M1_e, c) for c in range(int(M1_e)+1)]) # +1 because 0 is also counted\n",
    "    best_utility_r = np.max([best_utility(t+1, M1_r, c) for c in range(int(M1_r)+1)])\n",
    "    \n",
    "    dp_table[t, int(M0), C0] = C0 ** 0.5 + best_utility_e * P[t][0] + best_utility_r * P[t][1]\n",
    "    \n",
    "    return dp_table[t, int(M0), C0]"
   ]
  },
  {
   "cell_type": "code",
   "execution_count": 5,
   "metadata": {},
   "outputs": [
    {
     "data": {
      "text/plain": [
       "24.617650985717773"
      ]
     },
     "execution_count": 5,
     "metadata": {},
     "output_type": "execute_result"
    }
   ],
   "source": [
    "t1 = time.time()\n",
    "# This will consider all possible sub-problems\n",
    "best_res = best_utility(0, 20, 0)\n",
    "t2 = time.time()\n",
    "\n",
    "t2 - t1"
   ]
  },
  {
   "cell_type": "code",
   "execution_count": 13,
   "metadata": {},
   "outputs": [
    {
     "data": {
      "image/png": "[encoded data removed]",
      "text/plain": [
       "<Figure size 432x288 with 1 Axes>"
      ]
     },
     "metadata": {
      "needs_background": "light"
     },
     "output_type": "display_data"
    }
   ],
   "source": [
    "best_results = [best_utility(0, i, 0) for i in range(0, 21)]\n",
    "\n",
    "plt.plot(np.arange(21), best_results)\n",
    "plt.xlabel(\"initial saving\")\n",
    "_ = plt.ylabel(\"best utility\")"
   ]
  }
 ],
 "metadata": {
  "kernelspec": {
   "display_name": "Python 3",
   "language": "python",
   "name": "python3"
  },
  "language_info": {
   "codemirror_mode": {
    "name": "ipython",
    "version": 3
   },
   "file_extension": ".py",
   "mimetype": "text/x-python",
   "name": "python",
   "nbconvert_exporter": "python",
   "pygments_lexer": "ipython3",
   "version": "3.8.5"
  }
 },
 "nbformat": 4,
 "nbformat_minor": 4
}
