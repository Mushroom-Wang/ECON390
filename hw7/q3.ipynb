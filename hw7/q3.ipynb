{
 "cells": [
  {
   "cell_type": "code",
   "execution_count": 1,
   "metadata": {},
   "outputs": [],
   "source": [
    "import numpy as np"
   ]
  },
  {
   "cell_type": "code",
   "execution_count": 2,
   "metadata": {},
   "outputs": [],
   "source": [
    "tras_mat = np.array([\n",
    "    [.95, .04, .01], \n",
    "    [.15, .75, .10], \n",
    "    [.01, .49, .50]\n",
    "])"
   ]
  },
  {
   "cell_type": "code",
   "execution_count": 3,
   "metadata": {},
   "outputs": [],
   "source": [
    "def my_mc_simulation(current_state, states, P, T=100000):\n",
    "\n",
    "    chain = np.zeros(T,dtype=int)\n",
    "\n",
    "    for t in range(0,T):\n",
    "        chain[t] = current_state\n",
    "        next_state = np.random.choice(states, p=P[current_state])\n",
    "        current_state = next_state #moving to the next state\n",
    "    \n",
    "    return chain"
   ]
  },
  {
   "cell_type": "code",
   "execution_count": 4,
   "metadata": {},
   "outputs": [],
   "source": [
    "states = np.arange(3) #vector of states\n",
    "current_state = 0 #current state\n",
    "\n",
    "results = my_mc_simulation(current_state, states, tras_mat)"
   ]
  },
  {
   "cell_type": "code",
   "execution_count": 5,
   "metadata": {},
   "outputs": [
    {
     "name": "stdout",
     "output_type": "stream",
     "text": [
      "Deep recession ration: 0.05854\n"
     ]
    }
   ],
   "source": [
    "deep_recession = sum(results == 2) / len(results)\n",
    "print(f\"Deep recession ration: {deep_recession}\")"
   ]
  },
  {
   "cell_type": "code",
   "execution_count": 6,
   "metadata": {},
   "outputs": [
    {
     "name": "stdout",
     "output_type": "stream",
     "text": [
      "p(deep recession in next 12 month | current growth) = 0.2069120792525048\n"
     ]
    }
   ],
   "source": [
    "recession_count = 0\n",
    "growth_count = 0\n",
    "for i in range(len(results)):\n",
    "    if results[i] == 0:\n",
    "        # growth\n",
    "        growth_count += 1\n",
    "        if (results[i+1: i+13] == 2).any():\n",
    "            recession_count += 1\n",
    "print(f\"p(deep recession in next 12 month | current growth) = {recession_count/growth_count}\")"
   ]
  }
 ],
 "metadata": {
  "kernelspec": {
   "display_name": "Python 3",
   "language": "python",
   "name": "python3"
  },
  "language_info": {
   "codemirror_mode": {
    "name": "ipython",
    "version": 3
   },
   "file_extension": ".py",
   "mimetype": "text/x-python",
   "name": "python",
   "nbconvert_exporter": "python",
   "pygments_lexer": "ipython3",
   "version": "3.8.5"
  }
 },
 "nbformat": 4,
 "nbformat_minor": 4
}
