{
 "cells": [
  {
   "cell_type": "code",
   "execution_count": 4,
   "metadata": {},
   "outputs": [],
   "source": [
    "import pandas as pd\n",
    "import numpy as np"
   ]
  },
  {
   "cell_type": "code",
   "execution_count": 25,
   "metadata": {},
   "outputs": [],
   "source": [
    "south_country = [\n",
    "    \"Argentina\",\n",
    "    \"Bolivia\",\n",
    "    \"Brazil\",\n",
    "    \"Chile\",\n",
    "    \"Colombia\",\n",
    "    \"Ecuador\",\n",
    "    \"Guyana\",\n",
    "    \"Paraguay\",\n",
    "    \"Peru\",\n",
    "    \"Suriname\",\n",
    "    \"Uruguay\",\n",
    "    \"Venezuela\"\n",
    "]\n",
    "\n",
    "north_country = [\n",
    "    \"Antigua and Barbuda\",\n",
    "    \"Bahamas\",\n",
    "    \"Barbados\",\n",
    "    \"Belize\",\n",
    "    \"Canada\",\n",
    "    \"Costa Rica\",\n",
    "    \"Cuba\",\n",
    "    \"Dominica\",\n",
    "    \"Dominican Republic\",\n",
    "    \"El Salvador\",\n",
    "    \"Grenada\",\n",
    "    \"Guatemala\",\n",
    "    \"Haiti\",\n",
    "    \"Honduras\",\n",
    "    \"Jamaica\",\n",
    "    \"Mexico\",\n",
    "    \"Nicaragua\",\n",
    "    \"Panama\",\n",
    "    \"St. Kitts and Nevis\",\n",
    "    \"St. Lucia\",\n",
    "    \"St. Vincent and the Grenadines\",\n",
    "    \"Trinidad and Tobago\",\n",
    "    \"United States\"\n",
    "]"
   ]
  },
  {
   "cell_type": "code",
   "execution_count": 27,
   "metadata": {},
   "outputs": [],
   "source": [
    "gdp = pd.read_csv(\"data/gdppercapita.csv\").set_index(\"country\")\n",
    "south_country_gdp = gdp[\"2010\"][south_country].to_numpy()\n",
    "north_country_gdp = gdp[\"2010\"][north_country].to_numpy()"
   ]
  },
  {
   "cell_type": "markdown",
   "metadata": {},
   "source": [
    "## Null hypothesis\n",
    "The GDP per capita in South American countries equals to from the GDP per capita in the north American countries in 2010."
   ]
  }
 ],
 "metadata": {
  "kernelspec": {
   "display_name": "Python 3",
   "language": "python",
   "name": "python3"
  },
  "language_info": {
   "codemirror_mode": {
    "name": "ipython",
    "version": 3
   },
   "file_extension": ".py",
   "mimetype": "text/x-python",
   "name": "python",
   "nbconvert_exporter": "python",
   "pygments_lexer": "ipython3",
   "version": "3.8.5"
  }
 },
 "nbformat": 4,
 "nbformat_minor": 4
}
