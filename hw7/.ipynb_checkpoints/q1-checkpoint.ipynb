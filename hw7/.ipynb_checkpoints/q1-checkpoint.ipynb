{
 "cells": [
  {
   "cell_type": "code",
   "execution_count": 1,
   "metadata": {},
   "outputs": [],
   "source": [
    "import pandas as pd\n",
    "import numpy as np"
   ]
  },
  {
   "cell_type": "code",
   "execution_count": 37,
   "metadata": {},
   "outputs": [],
   "source": [
    "oecd_country = [\n",
    "    \"Australia\",\n",
    "    \"Austria\",\n",
    "    \"Belgium\",\n",
    "    \"Canada\",\n",
    "    \"Chile\",\n",
    "    \"Colombia\",\n",
    "    \"Czech Republic\",\n",
    "    \"Denmark\",\n",
    "    \"Estonia\",\n",
    "    \"Finland\",\n",
    "    \"France\",\n",
    "    \"Germany\",\n",
    "    \"Greece\",\n",
    "    \"Hungary\",\n",
    "    \"Iceland\",\n",
    "    \"Ireland\",\n",
    "    \"Israel\",\n",
    "    \"Italy\",\n",
    "    \"Japan\",\n",
    "    \"South Korea\",\n",
    "    \"Latvia\",\n",
    "    \"Lithuania\",\n",
    "    \"Luxembourg\",\n",
    "    \"Mexico\",\n",
    "    \"Netherlands\",\n",
    "    \"New Zealand\",\n",
    "    \"Norway\",\n",
    "    \"Poland\",\n",
    "    \"Portugal\",\n",
    "    \"Slovak Republic\",\n",
    "    \"Slovenia\",\n",
    "    \"Spain\",\n",
    "    \"Sweden\",\n",
    "    \"Switzerland\",\n",
    "    \"Turkey\",\n",
    "    \"United Kingdom\",\n",
    "    \"United States\",\n",
    "]"
   ]
  },
  {
   "cell_type": "code",
   "execution_count": 38,
   "metadata": {},
   "outputs": [],
   "source": [
    "gdp = pd.read_csv(\"data/gdppercapita.csv\").set_index(\"country\")\n",
    "oecd_country_gdp = gdp[\"2010\"][oecd_country].to_numpy()"
   ]
  },
  {
   "cell_type": "code",
   "execution_count": null,
   "metadata": {},
   "outputs": [],
   "source": []
  }
 ],
 "metadata": {
  "kernelspec": {
   "display_name": "Python 3",
   "language": "python",
   "name": "python3"
  },
  "language_info": {
   "codemirror_mode": {
    "name": "ipython",
    "version": 3
   },
   "file_extension": ".py",
   "mimetype": "text/x-python",
   "name": "python",
   "nbconvert_exporter": "python",
   "pygments_lexer": "ipython3",
   "version": "3.8.5"
  }
 },
 "nbformat": 4,
 "nbformat_minor": 4
}
