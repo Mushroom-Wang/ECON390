{
 "cells": [
  {
   "cell_type": "markdown",
   "metadata": {},
   "source": [
    "Consider an infinitely repeated duopoly market with stochastic demand. Specifically, firms 1 and 2 interact over time $t \\in\\{1, \\ldots, \\infty\\}$ with the demand in each time period being either high (H) or low (L). If the demand is $\\mathrm{H}$, then the inverse demand function is given by $p_{H}=120-q_{1}-q_{2} ;$ if the demand is $L,$ then the inverse demand function is given by $p_{L}=60-q_{1}-q_{2}$ (where $q_{1}$ is quantity chosen by firm $1,$ and $q_{2}$ is the quantity chosen by firm 2). Furthermore, suppose that firms discount the future according to the discount rate of $\\beta=.99$ and the demand evolves according to the transition probability matrix $M=\\left[\\begin{array}{rr}.8 & .2 \\\\ .3 & .7\\end{array}\\right] .$ For example, the probability that the demand in period $t+1$ is $\\mathrm{H}$ given that the demand in period $t$ is $\\mathrm{H}$ is . $8 .$ For simplicity, suppose that each firm produces at zero marginal cost.\n",
    "\n",
    "a) Suppose that firm 1 's policy is to produce 30 in every period. Determine the value function and the optimal policy functions for firm $2 .$ Hints: there are two possible states to consider: $(\\mathrm{H})$ and $(\\mathrm{L}) .$ Your goal is to find the value of being in each state and the optimal decision by firm 2 .\n",
    "\n",
    "b) Suppose that firm 1 's policy is to produce 25 in every round as long neither firm exceeded 35 in any round in the past. If either of the firms exceeded $35,$ firm 1 will produce $40 .$ Determine the value and the policy function for firm $2 .$ Hint: there are four possible states to consider: (H, neither firm exceeded 35), (H, one of the firms exceeded\n",
    "35), (L, neither firm exceeded exceeded 35), (L, one of the firms exceeded 35)"
   ]
  },
  {
   "cell_type": "code",
   "execution_count": 1,
   "metadata": {},
   "outputs": [],
   "source": [
    "import numpy as np\n",
    "\n",
    "M = np.array([[0.8, 0.2], [0.3, 0.7]])\n",
    "\n",
    "p_h = lambda q1, q2: 120 - q1 - q2\n",
    "p_l = lambda q1, q2: 60 - q1 - q2\n",
    "\n",
    "beta = 0.99\n",
    "\n",
    "H = 0\n",
    "L = 1"
   ]
  },
  {
   "cell_type": "markdown",
   "metadata": {},
   "source": [
    "## a\n",
    "\n",
    "For firm 1, the policy is \n",
    "$\n",
    "\\pi_1(a|s) = 30\n",
    "$.\n",
    "Given any state $s$, the output action $a$ of $\\pi_1$ is 30. \n",
    "\n",
    "\n",
    "For firm 2, the state space is $S = \\{H, L\\}$  \n",
    "The action space is $A = \\{a | a \\in \\mathbb{R} \\land 0 \\leq a < 90\\}$  \n",
    "We want to get the policy of firm 2, $\\pi_2$, with value iteration.  \n",
    "\n",
    "Value function for $\\pi_2$ is \n",
    "\n",
    "$$\n",
    "\\begin{align}\n",
    "V(s) &= \\underset{a}{max} \\sum_{s' \\in S} \\mathcal{T} (s, a, s') (R(s, a, s') + \\beta V(s'))\\\\\n",
    "     % &= \\underset{a}{max} \\sum_{s' \\in S} M (R(s, a, s') + \\beta V(s'))\n",
    "\\end{align}\n",
    "$$"
   ]
  },
  {
   "cell_type": "markdown",
   "metadata": {},
   "source": [
    "Given current state $s$ and the action going to take $a$, $\\mathcal{T}$ returns the probability of which the ongoing state is $s'$. $\\mathcal{T}$ can be gotten by querying $M$.   \n",
    "Similarly, $R$ returns the reward when taking action $a$ in state $s$ and arriving state $s'$.   \n",
    "\n",
    "Once we get the converged (optimal) value function $V^*$, we have $$\\pi_2(a|s) = \\underset{a}{argmax} \\sum_{s' \\in S} \\mathcal{T} (s, a, s') (R(s, a, s') + \\beta V^*(s'))$$ "
   ]
  },
  {
   "cell_type": "markdown",
   "metadata": {},
   "source": [
    "In this problem, the action will not affect the state transform, so we can simplify the $\\mathcal{T}(s, a, s')$ to $\\mathcal{T}(s, s')$"
   ]
  },
  {
   "cell_type": "code",
   "execution_count": 2,
   "metadata": {},
   "outputs": [],
   "source": [
    "def trans_a(s0, s1):\n",
    "    return M[s0][s1]"
   ]
  },
  {
   "cell_type": "markdown",
   "metadata": {},
   "source": [
    "The reward function does not care about current state, so we can simplify the $R(s, a, s')$ to $R(a, s')$"
   ]
  },
  {
   "cell_type": "code",
   "execution_count": 3,
   "metadata": {},
   "outputs": [],
   "source": [
    "# only consider revenue\n",
    "def rew_a(a, s1):\n",
    "    assert s1 in [0, 1]\n",
    "\n",
    "    if s1 == 0:  # next state is H\n",
    "        return p_h(30, a) * a\n",
    "    else:  # next state is L\n",
    "        return p_l(30, a) * a"
   ]
  },
  {
   "cell_type": "markdown",
   "metadata": {},
   "source": [
    "Value function and $\\pi_2$"
   ]
  },
  {
   "cell_type": "code",
   "execution_count": 4,
   "metadata": {},
   "outputs": [],
   "source": [
    "v_a = np.zeros(2)  # [0]: H, [1]: L\n",
    "\n",
    "def bf_argmax_a(fn, l, h):\n",
    "    # include upper boundary h\n",
    "    ind = np.arange(l, h + 1)\n",
    "    vs = fn(ind)\n",
    "    return l + np.argmax(vs), np.max(vs)\n",
    "\n",
    "def pi_2_a(s):\n",
    "    # TODO: v_a can be simplified as matrix product\n",
    "    v_f = lambda a: trans_a(s, 0) * (rew_a(a, 0) + beta * v_a[0]) + trans_a(s, 1) * (rew_a(a, 1) + beta * v_a[1])\n",
    "    return bf_argmax_a(v_f, 1, 90)"
   ]
  },
  {
   "cell_type": "code",
   "execution_count": 5,
   "metadata": {},
   "outputs": [],
   "source": [
    "def iteration_a(max_iter, delta):\n",
    "    for _ in range(max_iter):\n",
    "        new_v_0 = pi_2_a(0)[1]\n",
    "        new_v_1 = pi_2_a(1)[1]\n",
    "        new_v = np.array([new_v_0, new_v_1])\n",
    "        \n",
    "        global v_a\n",
    "        diff = np.max(new_v - v_a)\n",
    "        if diff <= delta: \n",
    "            print(\"converged\")\n",
    "            break\n",
    "        \n",
    "        v_a = new_v"
   ]
  },
  {
   "cell_type": "code",
   "execution_count": 6,
   "metadata": {},
   "outputs": [
    {
     "name": "stdout",
     "output_type": "stream",
     "text": [
      "converged\n"
     ]
    }
   ],
   "source": [
    "iteration_a(10000, 0.01)"
   ]
  },
  {
   "cell_type": "code",
   "execution_count": 7,
   "metadata": {},
   "outputs": [
    {
     "name": "stdout",
     "output_type": "stream",
     "text": [
      "If current state is H, firm 2 should produce: 39\n",
      "If current state is L, firm 2 should produce: 24\n"
     ]
    }
   ],
   "source": [
    "print(f\"If current state is H, firm 2 should produce: {pi_2_a(0)[0]}\")\n",
    "print(f\"If current state is L, firm 2 should produce: {pi_2_a(1)[0]}\")"
   ]
  },
  {
   "cell_type": "markdown",
   "metadata": {},
   "source": [
    "# b\n",
    "\n",
    "The value function of firm 2 did not change here, \n",
    "$$\n",
    "\\begin{align}\n",
    "V(s) &= \\underset{a}{max} \\sum_{s' \\in S} \\mathcal{T} (s, a, s') (R(s, a, s') + \\beta V(s'))\\\\\n",
    "     % &= \\underset{a}{max} \\sum_{s' \\in S} M (R(s, a, s') + \\beta V(s'))\n",
    "\\end{align}\n",
    "$$                   \n",
    "But the $\\mathcal{T}(s, a, s')$ and the $R(s, a, s')$ changed, $\\mathcal{T}(s, a, s')$ and $R(s, a, s')$ depends on all of the $s, a$ and $s'$ now. "
   ]
  },
  {
   "cell_type": "markdown",
   "metadata": {},
   "source": [
    "Let's encode the states first  \n",
    "$s_0$: (H, neither firm exceeded 35)  \n",
    "$s_1$: (H, one of the firms exceeded 35)  \n",
    "$s_2$: (L, neither firm exceeded exceeded 35)  \n",
    "$s_3$: (L, one of the firms exceeded 35)  \n",
    "\n",
    "It seems that here is still a problem, \n",
    "\n",
    "For $\\mathcal{T}(s, a, s')$, if $a > 35$, $s'$ can only be $s_1$ and $s_3$, and this can be gotten by querying the $M$. In this case $s'$ cannot be $s_0$ or $s_2$, the probability for that $s$ be these states will be 0.  \n",
    "If $a \\leq 35$, and neither firm exceeded 35. $s'$ can only be $s_0$ and $s_2$, and this can be gotten by querying the $M$. If  $a \\leq 35$, and one of the firms exceeded 35. $s'$ can only be $s_1$ and $s_3$, and this can be gotten by querying the $M$. Other transformation is not allowed, thus has probability 0. "
   ]
  },
  {
   "cell_type": "code",
   "execution_count": 8,
   "metadata": {},
   "outputs": [],
   "source": [
    "def trans_b(s0, a, s1):\n",
    "    if a > 35:\n",
    "        if s1 == 1 or s1 == 3:\n",
    "            return M[s0//2][s1//2]\n",
    "        else:\n",
    "            return 0\n",
    "    else:\n",
    "        if s0 == 1 or s0 == 3: \n",
    "            if s1 == 1 or s1 == 3:\n",
    "                return M[s0//2][s1//2]\n",
    "            else:\n",
    "                return 0\n",
    "        else:\n",
    "            if s1 == 0 or s1 == 2:\n",
    "                return M[s0//2][s1//2]\n",
    "            else:\n",
    "                return 0"
   ]
  },
  {
   "cell_type": "markdown",
   "metadata": {},
   "source": [
    "For $R(s, a, s')$, the quantity of firm 1 will changed based on the current state $s$. If $s$ is $s_1$ or $s_3$, firm 1 will produce 40, otherwise, it will produce 25.  "
   ]
  },
  {
   "cell_type": "code",
   "execution_count": 9,
   "metadata": {},
   "outputs": [],
   "source": [
    "def rew_b(s0, a, s1):\n",
    "    if s0 == 1 or s0 == 3:\n",
    "        f1_quan = 40\n",
    "    else: \n",
    "        f1_quan = 25\n",
    "    \n",
    "    if s1 == 0 or s1 == 1:\n",
    "        return p_h(f1_quan, a) * a\n",
    "    else:\n",
    "        return p_l(f1_quan, a) * a"
   ]
  },
  {
   "cell_type": "markdown",
   "metadata": {},
   "source": [
    "Value function and $\\pi_2$"
   ]
  },
  {
   "cell_type": "code",
   "execution_count": 10,
   "metadata": {},
   "outputs": [],
   "source": [
    "v_b = np.zeros(4)  \n",
    "\n",
    "def bf_argmax_b(fn, l, h):\n",
    "    # include upper boundary h\n",
    "    ind = np.arange(l, h + 1)\n",
    "    vs = []\n",
    "    for i in ind:\n",
    "        vs.append(fn(i))\n",
    "    return l + np.argmax(vs), np.max(vs)\n",
    "\n",
    "def pi_2_b(s0):\n",
    "    def v_f(a):\n",
    "        ep_rew = 0.0\n",
    "        for s1 in range(4):\n",
    "            ep_rew += trans_b(s0, a, s1) * (rew_b(s0, a, s1) + beta * v_b[s1])\n",
    "        return ep_rew\n",
    "    return bf_argmax_b(v_f, 1, 95)"
   ]
  },
  {
   "cell_type": "code",
   "execution_count": 11,
   "metadata": {},
   "outputs": [],
   "source": [
    "def iteration_b(max_iter, delta):\n",
    "    for _ in range(max_iter):\n",
    "        new_v = []\n",
    "        for s0 in range(4):\n",
    "            _v = pi_2_b(s0)[1]\n",
    "            new_v.append(_v)\n",
    "        new_v = np.array(new_v)\n",
    "        \n",
    "        global v_b\n",
    "        diff = np.max(new_v - v_b)\n",
    "        if diff <= delta: \n",
    "            print(\"converged\")\n",
    "            break\n",
    "        \n",
    "        v_b = new_v"
   ]
  },
  {
   "cell_type": "code",
   "execution_count": 12,
   "metadata": {},
   "outputs": [
    {
     "name": "stdout",
     "output_type": "stream",
     "text": [
      "converged\n"
     ]
    }
   ],
   "source": [
    "iteration_b(2000, 0.01)"
   ]
  },
  {
   "cell_type": "code",
   "execution_count": 13,
   "metadata": {},
   "outputs": [
    {
     "name": "stdout",
     "output_type": "stream",
     "text": [
      "If current state is s_0 (H, neither firm exceeded 35), firm 2 should produce: 35\n",
      "If current state is s_1 (H, one of the firms exceeded 35), firm 2 should produce: 34\n",
      "If current state is s_2 (L, neither firm exceeded exceeded 35), firm 2 should produce: 26\n",
      "If current state is s_3 (L, one of the firms exceeded 35), firm 2 should produce: 19\n"
     ]
    }
   ],
   "source": [
    "print(f\"If current state is s_0 (H, neither firm exceeded 35), firm 2 should produce: {pi_2_b(0)[0]}\")\n",
    "print(f\"If current state is s_1 (H, one of the firms exceeded 35), firm 2 should produce: {pi_2_b(1)[0]}\")\n",
    "print(f\"If current state is s_2 (L, neither firm exceeded exceeded 35), firm 2 should produce: {pi_2_b(2)[0]}\")\n",
    "print(f\"If current state is s_3 (L, one of the firms exceeded 35), firm 2 should produce: {pi_2_b(3)[0]}\") "
   ]
  }
 ],
 "metadata": {
  "kernelspec": {
   "display_name": "Python 3",
   "language": "python",
   "name": "python3"
  },
  "language_info": {
   "codemirror_mode": {
    "name": "ipython",
    "version": 3
   },
   "file_extension": ".py",
   "mimetype": "text/x-python",
   "name": "python",
   "nbconvert_exporter": "python",
   "pygments_lexer": "ipython3",
   "version": "3.8.5"
  }
 },
 "nbformat": 4,
 "nbformat_minor": 4
}
