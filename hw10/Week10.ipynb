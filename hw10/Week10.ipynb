{
 "cells": [
  {
   "cell_type": "code",
   "execution_count": 1,
   "metadata": {
    "slideshow": {
     "slide_type": "notes"
    }
   },
   "outputs": [],
   "source": [
    "#Libraries that we have covered before that are used in this notebook\n",
    "import pandas as pd\n",
    "import numpy as np\n",
    "import seaborn as sns\n",
    "import matplotlib.pyplot as plt\n",
    "%matplotlib inline"
   ]
  },
  {
   "cell_type": "markdown",
   "metadata": {
    "hideCode": false,
    "hidePrompt": false,
    "slideshow": {
     "slide_type": "slide"
    }
   },
   "source": [
    "# <center> Econ 390: Computational Economics </center>"
   ]
  },
  {
   "cell_type": "markdown",
   "metadata": {},
   "source": [
    "## <center> Dr. Yaroslav Rosokha</center>\n",
    "##### <center> Assistant Professor of Economics </center>\n",
    "##### <center> Purdue University </center>"
   ]
  },
  {
   "cell_type": "markdown",
   "metadata": {
    "hideCode": false,
    "hidePrompt": false,
    "slideshow": {
     "slide_type": "subslide"
    }
   },
   "source": [
    "## Week 10: Dynamic Programming"
   ]
  },
  {
   "cell_type": "markdown",
   "metadata": {
    "cell_style": "split",
    "hideCode": false,
    "hidePrompt": false,
    "slideshow": {
     "slide_type": "-"
    }
   },
   "source": [
    "### Contents\n",
    "- [Motivation](#Motivation)\n",
    "- [Background on Dynamic Optimization](#Background)\n",
    "- [Dynamic Programming](#Dynamic-Programming)\n",
    "    - [Finite-horizon Dynamic Programming](#Finite-horison-Dynamic-Programming)\n"
   ]
  },
  {
   "cell_type": "markdown",
   "metadata": {},
   "source": [
    "## Motivation\n",
    "\n",
    "In static optimization, the task is to find a single value for each variable. In *dynamic settings* that have multiple time peirods, we need to find the optimal policy for entire horizon. Where the policy (or strategy) has to specify the choice at every possible decision node that agent could face.\n",
    "\n",
    "The example that you typically study in the intermediate microeconomics class is the optimal choice of consumption and saving over time. These problems are know as **intertemporal choice** problems."
   ]
  },
  {
   "cell_type": "markdown",
   "metadata": {},
   "source": [
    "## Background\n",
    "\n",
    "### The agent-environment interface\n",
    " - The decision-maker is called the agent (controller).\n",
    " - Everything outside the agent, is called the environment (control system).\n",
    " - The agent is selects actions (control signal) and the environment responds to those actions and presets new situations to the agent. \n",
    " - The environment also gives rise to rewards.\n",
    " - Roughly speaking, the agent’s goal (control problem) is to maximize the total reward/utility over the long run."
   ]
  },
  {
   "cell_type": "markdown",
   "metadata": {},
   "source": [
    "### Control Problem: Four Elements\n",
    "\n",
    " - **Policy Function** – defines actions at a given time.\n",
    "    - A mapping from perceived states to actions to be taken when in those states\n",
    " - **Reward Function** – defines the goal.\n",
    "    - A mapping from perceived state (or state-action pair) to a reward/utility\n",
    " - **Value Function** – functions of states (or of state-action pairs) that estimate “how good” it is for the agent to be in a given state (or how good it is to perform a given action in a given state)\n",
    "    - The notion of “how good” is defined in terms of total future reward/utility that an agent can expect to accumulate starting from that state \n",
    "    - Since the rewards the agent can expect to receive depends on the actions he will take, the value function is specific to the policy\n",
    " - **Model of the environment** - the rules of the enviroment\n"
   ]
  },
  {
   "cell_type": "markdown",
   "metadata": {},
   "source": [
    "## Dynamic Programming\n",
    "\n",
    "> **dynamic programming** -- a collection of algorithms that can be used to cmpute optmial policies for dynamic control problems\n",
    "\n",
    "The mathematical theory of dynamic programming go back to Bellman (1957) and Bertsekas (1976). The key idea of Dynamic Programming is the use of value functions to organize and structure the search for optimal policies. \n",
    "\n",
    "> **value function** (denoted as $V_t(x)$) -- the greatest feasible total expected payoff from time $t$ forward, if at time $t$ the system is in state $x$."
   ]
  },
  {
   "cell_type": "markdown",
   "metadata": {
    "slideshow": {
     "slide_type": "slide"
    }
   },
   "source": [
    "## Finite-horizon Dynamic Programming"
   ]
  },
  {
   "cell_type": "markdown",
   "metadata": {},
   "source": [
    "### Simplified Problem: Finite Horizon, Discrete Choice\n",
    "\n",
    "Suppose you own a share of stock that pays a dividend $D_t\\in\\{0,10\\}$ each period. Specifically, the dividend realization depends on how well the company does: when the company does well you get $10$ and when the company does poorly you get $0$ (assume that these two states are equally likely and independent of past history of realizations).\n",
    "\n",
    "For simplicity, suppose that you begin with 2 in your savings account and that the share of the stock is your only source of income. Further suppose that your utility of consuming $c$ units in a period is given by $u(c)=\\sqrt(c)$ and that you live for $T=20$ periods.\n",
    "\n",
    "You need to figure out your optimal policy. That is you need to figure out what will be your consumption decision depending on the period you are in and the total amount of assets in your account."
   ]
  },
  {
   "cell_type": "code",
   "execution_count": 3,
   "metadata": {},
   "outputs": [],
   "source": [
    "def util(x):\n",
    "    return np.sqrt(x)"
   ]
  },
  {
   "cell_type": "markdown",
   "metadata": {},
   "source": [
    "# In-class Exercise\n",
    "\n",
    "Write a program to find the optimal policy for the problem above"
   ]
  },
  {
   "cell_type": "code",
   "execution_count": 4,
   "metadata": {},
   "outputs": [],
   "source": [
    "#Step 1: What should you do in period 20? -- spend everything\n",
    "asset_grid20=np.linspace(0,202,203,dtype=int) #in period 20 the maximum you could have is 2+20*10\n",
    "policy20=asset_grid20.copy() #the best policy in period 20 is to spend everything\n",
    "value20=util(policy20) #the value of having x units is u(x)"
   ]
  },
  {
   "cell_type": "code",
   "execution_count": 7,
   "metadata": {},
   "outputs": [],
   "source": [
    "# Step 2: Suppose you are in period 19 and you have A in total\n",
    "# What x maximizes that u(x)+ .5(Value20(S-x))+.5(Value20(S-x+10)?\n",
    "T = 19\n",
    "A = 10\n",
    "\n",
    "spending_grid19=np.linspace(0,A,A+1,dtype=int)\n",
    "expectedPayoffs=np.zeros_like(spending_grid19,dtype=float)\n",
    "\n",
    "for x in spending_grid19: #can spend up to A (assuming no credit)\n",
    "    expectedPayoffs[x]=util(x)+.5*value20[A-x]+.5*value20[A-x+10]"
   ]
  },
  {
   "cell_type": "code",
   "execution_count": 8,
   "metadata": {},
   "outputs": [
    {
     "data": {
      "image/png": "[encoded data removed]",
      "text/plain": [
       "<Figure size 432x288 with 1 Axes>"
      ]
     },
     "metadata": {
      "needs_background": "light"
     },
     "output_type": "display_data"
    }
   ],
   "source": [
    "plt.plot(spending_grid19,expectedPayoffs,'o')\n",
    "plt.xlabel('x')\n",
    "plt.ylabel('Expected Total Payoff of Consuming x')\n",
    "plt.show()"
   ]
  },
  {
   "cell_type": "code",
   "execution_count": 25,
   "metadata": {},
   "outputs": [
    {
     "data": {
      "text/plain": [
       "6"
      ]
     },
     "execution_count": 25,
     "metadata": {},
     "output_type": "execute_result"
    }
   ],
   "source": [
    "ix = expectedPayoffs.argmax()\n",
    "spending_grid19[ix]"
   ]
  },
  {
   "cell_type": "code",
   "execution_count": 48,
   "metadata": {},
   "outputs": [],
   "source": [
    "# Step 3: Find the optimal policy in period 19 (i.e., for all possible A)\n",
    "\n",
    "asset_grid19=np.linspace(0,2+19*10,2+19*10+1,dtype=int)\n",
    "policy19=np.zeros_like(asset_grid19,dtype=int)\n",
    "value19=np.zeros_like(asset_grid19,dtype=float)\n",
    "\n",
    "for a in asset_grid19:\n",
    "    \n",
    "    ## TODO IN CLASS"
   ]
  },
  {
   "cell_type": "code",
   "execution_count": 56,
   "metadata": {},
   "outputs": [
    {
     "data": {
      "image/png": "[encoded data removed]",
      "text/plain": [
       "<Figure size 432x288 with 1 Axes>"
      ]
     },
     "metadata": {
      "needs_background": "light"
     },
     "output_type": "display_data"
    }
   ],
   "source": [
    "plt.plot(asset_grid19,asset_grid19,'gray',label='45 degree line')\n",
    "plt.plot(asset_grid19,policy19,'.',label='Optimal Policy')\n",
    "plt.xlabel('Current Assets')\n",
    "plt.ylabel('Policy Function')\n",
    "plt.legend()\n",
    "plt.show()"
   ]
  },
  {
   "cell_type": "code",
   "execution_count": 67,
   "metadata": {},
   "outputs": [],
   "source": [
    "# Step 4: Find the optimal policy for every period t (continue working backwards)\n",
    "T=20 #Number of periods\n",
    "a1=2 #Starting assets\n",
    "I=10 #Income\n",
    "\n",
    "assets = np.zeros(shape=(T,a1+T*I+1),dtype=int)\n",
    "policies = np.zeros_like(assets,dtype=int)\n",
    "values = np.zeros_like(assets,dtype=float)\n",
    "\n",
    "for t in range(T,0,-1):\n",
    "    \n",
    "    assets[t-1][0:a1+t*I+1]=np.linspace(0,a1+t*I,a1+t*I+1,dtype=int)\n",
    "    \n",
    "    if t==T:\n",
    "        \n",
    "        # TODO IN CLASS\n",
    "    \n",
    "    else:\n",
    "        \n",
    "        # TODO IN CLASS\n",
    "        "
   ]
  },
  {
   "cell_type": "code",
   "execution_count": 86,
   "metadata": {},
   "outputs": [
    {
     "data": {
      "image/png": "[encoded data removed]",
      "text/plain": [
       "<Figure size 432x288 with 1 Axes>"
      ]
     },
     "metadata": {
      "needs_background": "light"
     },
     "output_type": "display_data"
    }
   ],
   "source": [
    "t=2\n",
    "plt.plot(assets[t],assets[t],'gray',label='45 degree line')\n",
    "plt.plot(assets[t],policies[t],'.',label='Optimal Policy')\n",
    "plt.xlabel('Current Assets')\n",
    "plt.ylabel('Policy Function')\n",
    "plt.legend()\n",
    "plt.show()"
   ]
  },
  {
   "cell_type": "markdown",
   "metadata": {},
   "source": [
    "## In-class Exercise\n",
    "What is the average life-time utility? (monte-carlo simulation)"
   ]
  },
  {
   "cell_type": "code",
   "execution_count": null,
   "metadata": {},
   "outputs": [],
   "source": [
    "# TODO IN CLASS"
   ]
  },
  {
   "cell_type": "code",
   "execution_count": null,
   "metadata": {},
   "outputs": [],
   "source": []
  },
  {
   "cell_type": "code",
   "execution_count": 83,
   "metadata": {},
   "outputs": [],
   "source": [
    "#Extensions:\n",
    "# -- continuous variables (interpolation)\n",
    "# -- income as a markov process (employment-unemployment dynamics)\n",
    "# -- availability of credit"
   ]
  }
 ],
 "metadata": {
  "celltoolbar": "Slideshow",
  "hide_code_all_hidden": false,
  "kernelspec": {
   "display_name": "Python 3",
   "language": "python",
   "name": "python3"
  },
  "language_info": {
   "codemirror_mode": {
    "name": "ipython",
    "version": 3
   },
   "file_extension": ".py",
   "mimetype": "text/x-python",
   "name": "python",
   "nbconvert_exporter": "python",
   "pygments_lexer": "ipython3",
   "version": "3.8.5"
  }
 },
 "nbformat": 4,
 "nbformat_minor": 4
}
