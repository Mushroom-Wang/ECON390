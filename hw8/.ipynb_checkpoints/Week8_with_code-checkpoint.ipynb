{
 "cells": [
  {
   "cell_type": "code",
   "execution_count": 2,
   "metadata": {
    "slideshow": {
     "slide_type": "notes"
    }
   },
   "outputs": [],
   "source": [
    "#Libraries that we have covered before that are used in this notebook\n",
    "import pandas as pd\n",
    "import numpy as np\n",
    "import seaborn as sns\n",
    "import matplotlib.pyplot as plt\n",
    "%matplotlib inline"
   ]
  },
  {
   "cell_type": "markdown",
   "metadata": {
    "hideCode": false,
    "hidePrompt": false,
    "slideshow": {
     "slide_type": "slide"
    }
   },
   "source": [
    "# <center> Econ 390: Computational Economics </center>"
   ]
  },
  {
   "cell_type": "markdown",
   "metadata": {},
   "source": [
    "## <center> Dr. Yaroslav Rosokha</center>\n",
    "##### <center> Assistant Professor of Economics </center>\n",
    "##### <center> Purdue University </center>"
   ]
  },
  {
   "cell_type": "markdown",
   "metadata": {
    "hideCode": false,
    "hidePrompt": false,
    "slideshow": {
     "slide_type": "subslide"
    }
   },
   "source": [
    "## Week 8: Numerical Methods and Optimization"
   ]
  },
  {
   "cell_type": "markdown",
   "metadata": {
    "cell_style": "split",
    "hideCode": false,
    "hidePrompt": false,
    "slideshow": {
     "slide_type": "-"
    }
   },
   "source": [
    "### Contents\n",
    "\n",
    "- [Exhaustive search](#Exhaustive-search)\n",
    "- [Bisection method](#Bisection-method)\n",
    "- [Fixed point iteration](#Fixed-point-iteration)\n",
    "- [Newton's method](#Newton's-method)\n",
    "- [Secant method](#Secant-method)\n",
    "- [Gradient descent](#Gradient-descent)\n",
    "- [Numerical optimization in Python](#Numerical-optimization-in-Python)"
   ]
  },
  {
   "cell_type": "markdown",
   "metadata": {},
   "source": [
    "## Formulating an Objective Function"
   ]
  },
  {
   "cell_type": "markdown",
   "metadata": {},
   "source": [
    "\n",
    "One of the most common procedures that you will do as quantitative economist or data scientist is to solve optimization problems. Optimization is the problem of finding a minimum, maximum, or root of a function. Optimization problem has two parts an objective function and a set of constraints.\n",
    "\n",
    "> *objective function* -- function that we want to maximize or minimize.\n",
    "\n",
    "> *optimization contraints* -- restrictions on the parameters\n",
    "\n",
    "For example, in the context of a firm, the goal is to maximize firm's profit. In the case of the government or policy think-tank, one is more interested in social welfare and cost/benefit analysis. In both cases the process will be largely the same and focused on optimization. \n",
    "\n",
    "\n",
    "There are a number of general optimization approaches that you can take. In this section we will go over few of them.\n"
   ]
  },
  {
   "cell_type": "markdown",
   "metadata": {
    "slideshow": {
     "slide_type": "slide"
    }
   },
   "source": [
    "# Exhaustive search\n",
    "\n",
    "> *Exhaustive search* (also known as *brute-force search*) is a general algorithm that consists of systematically checking all possible solutions to see which one generate the highest value of the objective function. \n",
    "\n"
   ]
  },
  {
   "cell_type": "markdown",
   "metadata": {},
   "source": [
    "## In-class Exercise: Monopolist Problem\n",
    "\n",
    "Consider a firm that is a monopolist in a market characterized by the inverse demand $p=100-q$.  Suppose that the firm chooses the quantity $q$ to produce and the total cost of production is quadratic: $c(q)=q^2$. Formulate the objective function and use exhaustive search to find the quantity that this firm will produce."
   ]
  },
  {
   "cell_type": "code",
   "execution_count": null,
   "metadata": {},
   "outputs": [],
   "source": [
    "def profit(q):\n",
    "    return (100-q)*q-q**2\n",
    "\n",
    "def deriv(q):\n",
    "    return 100-2*q-2*q"
   ]
  },
  {
   "cell_type": "code",
   "execution_count": null,
   "metadata": {},
   "outputs": [],
   "source": [
    "qs = np.arange(101)\n",
    "profits = profit(qs)\n",
    "\n",
    "iMax = profits.argmax() #get the index of the max profit\n",
    "print(\"Max profit at q =\",qs[iMax])\n",
    "print(\"Max profit is:\", profits[iMax])"
   ]
  },
  {
   "cell_type": "markdown",
   "metadata": {},
   "source": [
    "# Bisection method\n",
    "\n",
    "> *bisection method* -- a method to find the zero (a.k.a. root) of a continuous function that involves bisecting the interval in two.\n",
    "\n",
    "\n",
    "The bisection method is applied to a continous function that you know has two points of opposite sign. The basic idea is to cut the interval in half and check which of the two subintervals contains a zero.\n",
    "\n",
    "Suppose you have a function, $f(x)$ which is zero between two points $x_1$ and $x_2$.\n",
    "\n",
    "*Notes:* (1) strating with two points that have the opposite sign means that $f(x_1)f(x_2)<0$; (2) function being continous together with (1) means that is zero somewhere between $x_1$ and $x_2$ ([Intermediate Value Theorem](https://www.mathsisfun.com/algebra/intermediate-value-theorem.html)).\n",
    "\n",
    "\n",
    "**Algorithm**\n",
    "1. Compute $f(x)$ at $x_1$ and $x_2$ and make sure that $f(x_1)f(x_2)<0$\n",
    "2. Compute $x_m=\\frac{1}{2}(x_1+x_2)$\n",
    "3. Compute $f(x_m)$\n",
    "4. If $f(x_m)f(x_2)<0$ replace $x_1$ by $x_m$, else replace $x_2$ by $x_m$. Test whether $|x_1-x_2|<\\epsilon$, if yes then you have found 0, if no then repeat 2-5.\n",
    "\n",
    "*Note:* $\\epsilon$ in step 5 is a user-specified **tollerance parameter**.\n"
   ]
  },
  {
   "cell_type": "markdown",
   "metadata": {},
   "source": [
    "## In-class Exercise\n",
    "\n",
    "Write a function to implement the bisection method and apply it to the Monopolist problem."
   ]
  },
  {
   "cell_type": "code",
   "execution_count": null,
   "metadata": {},
   "outputs": [],
   "source": [
    "def bisection(f,x1,x2,eps=.000001):\n",
    "    '''\n",
    "    f -- function that we want to find a root of\n",
    "    x1 and x2 are end points of the interval on which we looking for 0\n",
    "    eps -- tolerance parameter\n",
    "    '''\n",
    "\n",
    "    while (x2-x1)>eps:\n",
    "\n",
    "        print(\"x2=\",x2,\"x1=\",x1)\n",
    "\n",
    "        if f(x1)*f(x2)<0:\n",
    "            xMid = (x1+x2)/2\n",
    "            if f(xMid)*f(x2)<0:\n",
    "                x1=xMid\n",
    "            else:\n",
    "                x2=xMid\n",
    "        else:\n",
    "            print(\"Condition 1 is not satisfied!\")\n",
    "            break\n",
    "            \n",
    "    return xMid\n"
   ]
  },
  {
   "cell_type": "markdown",
   "metadata": {},
   "source": [
    "## In-class Exercise \n",
    "\n",
    "Apply the bisection method to to the Monopolist problem."
   ]
  },
  {
   "cell_type": "code",
   "execution_count": null,
   "metadata": {},
   "outputs": [],
   "source": [
    "bisection(deriv,1,99,.001)"
   ]
  },
  {
   "cell_type": "markdown",
   "metadata": {},
   "source": [
    "Bisection method is a very basic method, but it is robust and converges in a predictable number of iterations."
   ]
  },
  {
   "cell_type": "markdown",
   "metadata": {},
   "source": [
    "# Fixed point\n",
    "\n",
    "> A *fixed point* of function $f$ is the solution $x$ of the equation $f(x)=x$.\n",
    "\n",
    "$f(x)-x=0$\n",
    "\n",
    "\n",
    "## Fixed point iteration\n",
    "\n",
    "**Algorithm**\n",
    "\n",
    "1. Start with an inital guess $x_0$\n",
    "2. Compute $x_{n+1}=f(x_n)$ \n",
    "3. Test whether $|x_{n+1}-x_n|<\\epsilon$, if yes then you have found 0, if no then repeat 2.\n",
    "\n",
    "(aside note: sometimes $x_{n+1}=\\alpha*x_n+(1-\\alpha)*f(x_n)$ with $\\alpha$ small works better).\n",
    "\n",
    "**Theorem**\n",
    "\n",
    "Let $x^*$ be a fixed point of function $f$. If $f$ is continuously differentiable, and $|f'(x^*)|<1$, then fixed point iteration will converge linearly to $x^*$ if $x_0$ is close enough to $x^*$. If $|f'(x^*)|>1$ then fixed point iteration will not converge for $x^*$."
   ]
  },
  {
   "cell_type": "markdown",
   "metadata": {},
   "source": [
    "## In-class Exercise\n",
    "\n",
    "Consider a Cournot duopoly market characterized by the inverse demand $p=100-q_1-q_2$.  Suppose that both firms face the same quadratic cost function: $c(q_i)=q_i^2$. \n",
    "\n",
    "Apply the fixed point iteration algorithm to solve for the Nash equilibrium in the duopoly Model.\n",
    "\n",
    "$profit_i=(100-q_i-q_j)*q_i-q_i^2$\n",
    "\n",
    "FOC: $100-2*q_i-q_j-2*q_i=0$\n",
    "\n",
    "-> $q_i=\\frac{100-q_j}{4}$\n",
    "\n",
    "$BR_i(q_j)=q_j$\n",
    "\n"
   ]
  },
  {
   "cell_type": "code",
   "execution_count": null,
   "metadata": {},
   "outputs": [],
   "source": [
    "eps = .01\n",
    "\n",
    "#Step 1: initial guess x0\n",
    "x0=99\n",
    "\n",
    "#Step 2: compute x1 by applying the function\n",
    "def BR(q): #this is our function of interest\n",
    "    return (100-q)/4.0\n",
    "\n",
    "x1 = BR(x0)\n",
    "print(\"New guess:\",x1)\n",
    "\n",
    "while abs(x1-x0)>eps:\n",
    "    x0=x1\n",
    "    x1=BR(x0)\n",
    "    print(\"New guess:\",x1)\n",
    "    \n",
    "print(x1)"
   ]
  },
  {
   "cell_type": "code",
   "execution_count": null,
   "metadata": {},
   "outputs": [],
   "source": [
    "x1"
   ]
  },
  {
   "cell_type": "markdown",
   "metadata": {},
   "source": [
    "# Newton's method\n",
    "\n",
    "> *Newton's Method* -- an iterative method for finding the root of a differentiable function\n",
    "\n",
    "Differentiable means that we can take the derivative of the function. This algorithm is also known as the Newton-Raphson method. \n",
    "\n",
    "**Algorithm**\n",
    "\n",
    "1. Start with an inital guess $x_0$\n",
    "2. Compute $x_{n+1}=x_n-f(x_n)\\frac{1}{f'(x_n)}$\n",
    "3. Test whether $|x_{n+1}-x_n|<\\epsilon$, if yes then you have found 0, if no then repeat 2."
   ]
  },
  {
   "cell_type": "code",
   "execution_count": null,
   "metadata": {},
   "outputs": [],
   "source": [
    "def newton(x0,f,deriv,eps=.00001):\n",
    "    ''' function to implement the Newton's algorithm '''\n",
    "    x1 = x0 - f(x0)/deriv(x0)\n",
    "    while abs(x1-x0)>eps:\n",
    "        x0 = x1\n",
    "        x1 =  x0 - f(x0)/deriv(x0)\n",
    "    return x1\n",
    "\n",
    "def f(q):\n",
    "    print(\"Evaluate\")\n",
    "    return 100-2*q-2*q \n",
    "\n",
    "def deriv(q):\n",
    "    return -4\n",
    "\n",
    "newton(20,f,deriv)\n"
   ]
  },
  {
   "cell_type": "markdown",
   "metadata": {},
   "source": [
    "Aside: the Fixed-point algorithm and the Newton's Methods are note as foolproof as the bisection method. Possile issues (huge jubmps, cycles, divergence)"
   ]
  },
  {
   "cell_type": "markdown",
   "metadata": {},
   "source": [
    "# Numerical Differentiation\n",
    "\n",
    "The derivative of function $f$ is $f'(x)=\\lim _{h\\to 0}{\\frac {f(x+h)-f(x)}{h}}$. \n",
    "\n",
    "We can approximate the derivative by picking small $h$ and calculate $\\tilde{f'(x)}=\\frac {f(x+h)-f(x)}{h}$. This approach is known as the Newton's difference quotient.\n",
    "\n",
    "Alternatively we can use the symmetric difference quotient approach and calculate $\\tilde{f'(x)} = \\frac {f(x+h)-f(x-h)}{2h}$"
   ]
  },
  {
   "cell_type": "markdown",
   "metadata": {},
   "source": [
    "## In-class Exercise\n",
    "\n",
    "Write functions to implement the Newton's and the symmetric different quotient approaches and apply them to evaluate the derivative of $f(x)=\\frac{1}{2}−e^{−x}$ at $x=2$. Compare to the true derivative at $x=2$.\n"
   ]
  },
  {
   "cell_type": "code",
   "execution_count": 2,
   "metadata": {},
   "outputs": [],
   "source": [
    "def numerDeriv1(x,f,h=.00001):\n",
    "    return (f(x+h)-f(x))/(h)\n",
    "\n",
    "def numerDeriv2(x,f,h=.00001):\n",
    "    return (f(x+h)-f(x-h))/(2*h)\n",
    "\n",
    "def f(x):\n",
    "    return 0.5-np.exp(-x)"
   ]
  },
  {
   "cell_type": "code",
   "execution_count": 3,
   "metadata": {},
   "outputs": [
    {
     "data": {
      "text/plain": [
       "[<matplotlib.lines.Line2D at 0x297ff518d00>]"
      ]
     },
     "execution_count": 3,
     "metadata": {},
     "output_type": "execute_result"
    },
    {
     "data": {
      "image/png": "[encoded data removed]",
      "text/plain": [
       "<Figure size 432x288 with 1 Axes>"
      ]
     },
     "metadata": {
      "needs_background": "light"
     },
     "output_type": "display_data"
    }
   ],
   "source": [
    "x_grid = np.linspace(.01,5,100)\n",
    "f_grid = f(x_grid)\n",
    "plt.plot(x_grid,f_grid)"
   ]
  },
  {
   "cell_type": "code",
   "execution_count": 7,
   "metadata": {},
   "outputs": [
    {
     "data": {
      "text/plain": [
       "0.36787760178125234"
      ]
     },
     "execution_count": 7,
     "metadata": {},
     "output_type": "execute_result"
    }
   ],
   "source": [
    "numerDeriv1(x=1,f=f)"
   ]
  },
  {
   "cell_type": "code",
   "execution_count": 8,
   "metadata": {},
   "outputs": [
    {
     "data": {
      "text/plain": [
       "0.3678794411765551"
      ]
     },
     "execution_count": 8,
     "metadata": {},
     "output_type": "execute_result"
    }
   ],
   "source": [
    "numerDeriv2(x=1,f=f)"
   ]
  },
  {
   "cell_type": "markdown",
   "metadata": {},
   "source": [
    "True derivative of $f(x) = 1/2-e^{-x}$ is $f'(x)=e^{-x}$. So, for comparison we evaluate $f'(2)$ \n"
   ]
  },
  {
   "cell_type": "code",
   "execution_count": 9,
   "metadata": {},
   "outputs": [
    {
     "data": {
      "text/plain": [
       "0.36787944117144233"
      ]
     },
     "execution_count": 9,
     "metadata": {},
     "output_type": "execute_result"
    }
   ],
   "source": [
    "np.exp(-1)"
   ]
  },
  {
   "cell_type": "markdown",
   "metadata": {},
   "source": [
    "# Secant method\n",
    "\n",
    "**Algorithm**\n",
    "\n",
    "1. Start with two inital points $x_0$, $x_1$\n",
    "2. Compute $x_{n+1}=x_n-f(x_n)\\frac{x_n-x_{n-1}}{f(x_n)-f(x_{n-1})}$\n",
    "3. Test whether $|x_{n+1}-x_n|<\\epsilon$, if yes then you have found 0, if no then repeat 2.\n",
    "\n",
    "Question: Do you notice anything about the Secant Method relative to the Newton's Method?"
   ]
  },
  {
   "cell_type": "markdown",
   "metadata": {},
   "source": [
    "# Gradient descent\n",
    "\n",
    "Supose we want to find the minimum of the function $f(x)$. Basic idea: start at some $x$, use the slope (gradient) informaiton to guide which way to move, make a step in that direction\n",
    "\n",
    "**Algorith**\n",
    "1. Start with an initial guess $x_0$\n",
    "2. Compute $x_{n+1}=x_{n}-\\rho f'(x)$\n",
    "3. Test whether $|x_{n+1}-x_n|<\\epsilon$, if yes then you have found 0, if no then repeat 2."
   ]
  },
  {
   "cell_type": "markdown",
   "metadata": {},
   "source": [
    "## In class Exercise \n",
    "\n",
    "Write a function to implement a gradient descent algorithm and apply it to find the minimum of $f(x)=1.2(x-2)^2+3.2$. The derivative of $f$ is $f'(x)=2.4x-4.8$.\n"
   ]
  },
  {
   "cell_type": "code",
   "execution_count": 17,
   "metadata": {},
   "outputs": [],
   "source": [
    "def myFun(x):\n",
    "    return 1.2*(x-2)**2+3.2\n",
    "\n",
    "def myFunDeriv(x):\n",
    "    return 2.4*x-4.8"
   ]
  },
  {
   "cell_type": "code",
   "execution_count": 18,
   "metadata": {},
   "outputs": [
    {
     "data": {
      "text/plain": [
       "[<matplotlib.lines.Line2D at 0x1ce7f209520>]"
      ]
     },
     "execution_count": 18,
     "metadata": {},
     "output_type": "execute_result"
    },
    {
     "data": {
      "image/png": "[encoded data removed]",
      "text/plain": [
       "<Figure size 432x288 with 1 Axes>"
      ]
     },
     "metadata": {
      "needs_background": "light"
     },
     "output_type": "display_data"
    }
   ],
   "source": [
    "x_grid = np.linspace(0,4,21)\n",
    "f_grid = myFun(x_grid)\n",
    "\n",
    "plt.plot(x_grid,f_grid)"
   ]
  },
  {
   "cell_type": "code",
   "execution_count": 19,
   "metadata": {},
   "outputs": [
    {
     "data": {
      "text/plain": [
       "2.0"
      ]
     },
     "execution_count": 19,
     "metadata": {},
     "output_type": "execute_result"
    }
   ],
   "source": [
    "def grad_descent(x0,myFunDeriv,rho=.5,eps = .00001):\n",
    "    ''' implementation of gradient descent that requires the derivative of f which we call myFunDeriv.'''\n",
    "\n",
    "    x1 = x0 - rho*myFunDeriv(x0)\n",
    "\n",
    "    while abs(x1-x0)>eps:\n",
    "        x0 = x1\n",
    "        x1 = x0 - rho*myFunDeriv(x0)\n",
    "        \n",
    "    return x1\n",
    "\n",
    "grad_descent(1,myFunDeriv,eps = .000000000000001)"
   ]
  },
  {
   "cell_type": "markdown",
   "metadata": {},
   "source": [
    "## In class Exercise \n",
    "\n",
    "Write a function to implement a gradient descent with numerical derivative and apply it to find the minimum of $f$ from the previous example."
   ]
  },
  {
   "cell_type": "code",
   "execution_count": 20,
   "metadata": {},
   "outputs": [],
   "source": [
    "def numerDeriv2(x,f,h=.00001):\n",
    "    return (f(x+h)-f(x-h))/(2*h)\n",
    "\n",
    "def grad_descent2(x0,f,rho=.5,eps=.00001):\n",
    "    ''' implementation of gradient descent that does not require the derivative of f.\n",
    "        instead it calculates the numerical derivative of f'''\n",
    "    \n",
    "    x1 = x0 - rho*numerDeriv2(x0,f)\n",
    "\n",
    "    while abs(x1-x0)>eps:\n",
    "        x0 = x1\n",
    "        x1 = x0 - rho*numerDeriv2(x0,f)\n",
    "        \n",
    "    return x1"
   ]
  },
  {
   "cell_type": "code",
   "execution_count": 21,
   "metadata": {},
   "outputs": [
    {
     "data": {
      "text/plain": [
       "2.0000005119970012"
      ]
     },
     "execution_count": 21,
     "metadata": {},
     "output_type": "execute_result"
    }
   ],
   "source": [
    "grad_descent2(1,myFun)"
   ]
  },
  {
   "cell_type": "markdown",
   "metadata": {},
   "source": [
    "# Python Optimizers\n",
    "\n",
    "Python optimizers are located in the [optimize](https://docs.scipy.org/doc/scipy/reference/optimize.html) module of scipy library."
   ]
  },
  {
   "cell_type": "code",
   "execution_count": 22,
   "metadata": {},
   "outputs": [],
   "source": [
    "import scipy.optimize as so #typically scipy.optimize is imported as so"
   ]
  },
  {
   "cell_type": "code",
   "execution_count": 23,
   "metadata": {},
   "outputs": [
    {
     "ename": "NameError",
     "evalue": "name 'f' is not defined",
     "output_type": "error",
     "traceback": [
      "\u001b[1;31m---------------------------------------------------------------------------\u001b[0m",
      "\u001b[1;31mNameError\u001b[0m                                 Traceback (most recent call last)",
      "\u001b[1;32m<ipython-input-23-99976a45c409>\u001b[0m in \u001b[0;36m<module>\u001b[1;34m\u001b[0m\n\u001b[1;32m----> 1\u001b[1;33m \u001b[0mx\u001b[0m \u001b[1;33m=\u001b[0m \u001b[0mso\u001b[0m\u001b[1;33m.\u001b[0m\u001b[0mbisect\u001b[0m\u001b[1;33m(\u001b[0m\u001b[0mf\u001b[0m\u001b[1;33m,\u001b[0m\u001b[1;36m0\u001b[0m\u001b[1;33m,\u001b[0m\u001b[1;36m2\u001b[0m\u001b[1;33m)\u001b[0m\u001b[1;33m\u001b[0m\u001b[1;33m\u001b[0m\u001b[0m\n\u001b[0m\u001b[0;32m      2\u001b[0m \u001b[0mprint\u001b[0m\u001b[1;33m(\u001b[0m\u001b[1;34m'value of x:'\u001b[0m\u001b[1;33m,\u001b[0m \u001b[0mx\u001b[0m\u001b[1;33m)\u001b[0m\u001b[1;33m\u001b[0m\u001b[1;33m\u001b[0m\u001b[0m\n",
      "\u001b[1;31mNameError\u001b[0m: name 'f' is not defined"
     ]
    }
   ],
   "source": [
    "x = so.bisect(f,0,2)\n",
    "print('value of x:', x)"
   ]
  },
  {
   "cell_type": "code",
   "execution_count": 24,
   "metadata": {},
   "outputs": [
    {
     "name": "stdout",
     "output_type": "stream",
     "text": [
      "value of x: 1.9999999999993179\n"
     ]
    }
   ],
   "source": [
    "x = so.bisect(myFunDeriv,0,5)\n",
    "print('value of x:', x)"
   ]
  },
  {
   "cell_type": "code",
   "execution_count": 33,
   "metadata": {},
   "outputs": [
    {
     "name": "stdout",
     "output_type": "stream",
     "text": [
      "value of x: 2.0\n"
     ]
    }
   ],
   "source": [
    "x = so.newton(myFunDeriv,1)\n",
    "print('value of x:', x)"
   ]
  },
  {
   "cell_type": "code",
   "execution_count": 34,
   "metadata": {},
   "outputs": [],
   "source": [
    "so.newton?"
   ]
  },
  {
   "cell_type": "code",
   "execution_count": 35,
   "metadata": {},
   "outputs": [
    {
     "name": "stdout",
     "output_type": "stream",
     "text": [
      "value of x: [2.]\n"
     ]
    }
   ],
   "source": [
    "#Brute-force minimization\n",
    "rranges = ((0,5),) # indicate lower and upper bounds for each variable.\n",
    "x = so.brute(myFun,rranges)\n",
    "print('value of x:', x)"
   ]
  },
  {
   "cell_type": "code",
   "execution_count": 36,
   "metadata": {},
   "outputs": [
    {
     "name": "stdout",
     "output_type": "stream",
     "text": [
      "value of x:       fun: 3.2\n",
      " hess_inv: array([[0.41666667]])\n",
      "      jac: array([0.])\n",
      "  message: 'Optimization terminated successfully.'\n",
      "     nfev: 6\n",
      "      nit: 2\n",
      "     njev: 3\n",
      "   status: 0\n",
      "  success: True\n",
      "        x: array([1.99999999])\n"
     ]
    }
   ],
   "source": [
    "x = so.minimize(myFun,1)\n",
    "print('value of x:', x)"
   ]
  },
  {
   "cell_type": "markdown",
   "metadata": {},
   "source": [
    "## In class exercise: find regression line\n",
    "\n",
    "Consider the cars dataset. Find the equation of the regression of mpg~acceleration assuming that the intercept is zero. That is we need to find the slope of the 'best fit' line for mpg vs acceleration plot. Aside: regression minimizes sum of squared residuals.\n",
    "\n",
    "Step 1: Formulate the objective function\n",
    "Step 2: Apply the gradient optimization routine\n",
    "\n"
   ]
  },
  {
   "cell_type": "code",
   "execution_count": 3,
   "metadata": {},
   "outputs": [
    {
     "data": {
      "text/html": [
       "<div>\n",
       "<style scoped>\n",
       "    .dataframe tbody tr th:only-of-type {\n",
       "        vertical-align: middle;\n",
       "    }\n",
       "\n",
       "    .dataframe tbody tr th {\n",
       "        vertical-align: top;\n",
       "    }\n",
       "\n",
       "    .dataframe thead th {\n",
       "        text-align: right;\n",
       "    }\n",
       "</style>\n",
       "<table border=\"1\" class=\"dataframe\">\n",
       "  <thead>\n",
       "    <tr style=\"text-align: right;\">\n",
       "      <th></th>\n",
       "      <th>mpg</th>\n",
       "      <th>cylinders</th>\n",
       "      <th>displacement</th>\n",
       "      <th>horsepower</th>\n",
       "      <th>weight</th>\n",
       "      <th>acceleration</th>\n",
       "      <th>model_year</th>\n",
       "      <th>origin</th>\n",
       "      <th>car_name</th>\n",
       "      <th>maker</th>\n",
       "    </tr>\n",
       "  </thead>\n",
       "  <tbody>\n",
       "    <tr>\n",
       "      <th>0</th>\n",
       "      <td>18.0</td>\n",
       "      <td>8</td>\n",
       "      <td>307.0</td>\n",
       "      <td>130</td>\n",
       "      <td>3504</td>\n",
       "      <td>12.0</td>\n",
       "      <td>70</td>\n",
       "      <td>America</td>\n",
       "      <td>chevrolet chevelle malibu</td>\n",
       "      <td>chevrolet</td>\n",
       "    </tr>\n",
       "    <tr>\n",
       "      <th>1</th>\n",
       "      <td>15.0</td>\n",
       "      <td>8</td>\n",
       "      <td>350.0</td>\n",
       "      <td>165</td>\n",
       "      <td>3693</td>\n",
       "      <td>11.5</td>\n",
       "      <td>70</td>\n",
       "      <td>America</td>\n",
       "      <td>buick skylark 320</td>\n",
       "      <td>buick</td>\n",
       "    </tr>\n",
       "    <tr>\n",
       "      <th>2</th>\n",
       "      <td>18.0</td>\n",
       "      <td>8</td>\n",
       "      <td>318.0</td>\n",
       "      <td>150</td>\n",
       "      <td>3436</td>\n",
       "      <td>11.0</td>\n",
       "      <td>70</td>\n",
       "      <td>America</td>\n",
       "      <td>plymouth satellite</td>\n",
       "      <td>plymouth</td>\n",
       "    </tr>\n",
       "    <tr>\n",
       "      <th>3</th>\n",
       "      <td>16.0</td>\n",
       "      <td>8</td>\n",
       "      <td>304.0</td>\n",
       "      <td>150</td>\n",
       "      <td>3433</td>\n",
       "      <td>12.0</td>\n",
       "      <td>70</td>\n",
       "      <td>America</td>\n",
       "      <td>amc rebel sst</td>\n",
       "      <td>amc</td>\n",
       "    </tr>\n",
       "    <tr>\n",
       "      <th>4</th>\n",
       "      <td>17.0</td>\n",
       "      <td>8</td>\n",
       "      <td>302.0</td>\n",
       "      <td>140</td>\n",
       "      <td>3449</td>\n",
       "      <td>10.5</td>\n",
       "      <td>70</td>\n",
       "      <td>America</td>\n",
       "      <td>ford torino</td>\n",
       "      <td>ford</td>\n",
       "    </tr>\n",
       "  </tbody>\n",
       "</table>\n",
       "</div>"
      ],
      "text/plain": [
       "    mpg  cylinders  displacement  horsepower  weight  acceleration  \\\n",
       "0  18.0          8         307.0         130    3504          12.0   \n",
       "1  15.0          8         350.0         165    3693          11.5   \n",
       "2  18.0          8         318.0         150    3436          11.0   \n",
       "3  16.0          8         304.0         150    3433          12.0   \n",
       "4  17.0          8         302.0         140    3449          10.5   \n",
       "\n",
       "   model_year   origin                   car_name      maker  \n",
       "0          70  America  chevrolet chevelle malibu  chevrolet  \n",
       "1          70  America          buick skylark 320      buick  \n",
       "2          70  America         plymouth satellite   plymouth  \n",
       "3          70  America              amc rebel sst        amc  \n",
       "4          70  America                ford torino       ford  "
      ]
     },
     "execution_count": 3,
     "metadata": {},
     "output_type": "execute_result"
    }
   ],
   "source": [
    "data = pd.read_csv('CarsData.csv')\n",
    "data.head()"
   ]
  },
  {
   "cell_type": "markdown",
   "metadata": {},
   "source": [
    "Want to minimize sum of square errors for the line line given by equation $f(x)=0+b*x$\n",
    "\n"
   ]
  },
  {
   "cell_type": "code",
   "execution_count": 12,
   "metadata": {},
   "outputs": [],
   "source": [
    "def myEquation(b,x):\n",
    "    '''equation of a line with a slope b and intercept of 0'''\n",
    "    return b*x\n",
    "\n",
    "def myObjective(b):\n",
    "    '''sum of squared deviation from myEquation'''\n",
    "    return np.sum((data.mpg-myEquation(b,data.acceleration))**2) #xs are data.mpg, ys are data.acceleration"
   ]
  },
  {
   "cell_type": "code",
   "execution_count": 13,
   "metadata": {},
   "outputs": [
    {
     "name": "stdout",
     "output_type": "stream",
     "text": [
      "Red line sum of squared deviations: 117318.575\n",
      "Blue line sum of squared deviations: 239809.5\n",
      "Green line sum of squared deviations: 19829.595\n"
     ]
    },
    {
     "data": {
      "image/png": "[encoded data removed]",
      "text/plain": [
       "<Figure size 432x288 with 1 Axes>"
      ]
     },
     "metadata": {
      "needs_background": "light"
     },
     "output_type": "display_data"
    }
   ],
   "source": [
    "plt.scatter(data.acceleration,data.mpg) #plot data\n",
    "\n",
    "x_grid=np.linspace(0,25,50) #create the x grid for the relevant space\n",
    "\n",
    "plt.plot(x_grid,myEquation(.5,x_grid),'red') #\n",
    "print(\"Red line sum of squared deviations:\",myObjective(.5))\n",
    "\n",
    "plt.plot(x_grid,myEquation(3,x_grid),'blue')\n",
    "print(\"Blue line sum of squared deviations:\",myObjective(3))\n",
    "\n",
    "plt.plot(x_grid,myEquation(1.5,x_grid),'green')\n",
    "print(\"Green line sum of squared deviations:\",myObjective(1.5))"
   ]
  },
  {
   "cell_type": "code",
   "execution_count": 14,
   "metadata": {},
   "outputs": [
    {
     "data": {
      "text/plain": [
       "[<matplotlib.lines.Line2D at 0x1ce7f1b3730>]"
      ]
     },
     "execution_count": 14,
     "metadata": {},
     "output_type": "execute_result"
    },
    {
     "data": {
      "image/png": "[encoded data removed]",
      "text/plain": [
       "<Figure size 432x288 with 1 Axes>"
      ]
     },
     "metadata": {
      "needs_background": "light"
     },
     "output_type": "display_data"
    }
   ],
   "source": [
    "#visualise sum of squared deviation for different lines\n",
    "slopes = np.linspace(.5,3,25)\n",
    "sum_squared_devs = [myObjective(s) for s in slopes]\n",
    "\n",
    "plt.plot(slopes,sum_squared_devs)"
   ]
  },
  {
   "cell_type": "markdown",
   "metadata": {},
   "source": [
    "# HW\n",
    "\n",
    "1. Write a function to implement the secant algorithm and apply it solve $f(x) = e^x-x-2 = 0$.\n",
    "2. Consider the supply-demand economy (and the class implementation of this model). Add the function to calculate the equilibrium of the supply demand model using the bisection or the Newton's method. That is you need to find the price at which the quantity supplied is equal to the quantity demanded. Solve for the equilibrium for the case that the supply curve is $p_s=100e^{q_s}$, and the demand curve is $p_d=\\sqrt{q_d}$.\n",
    "3. Consider the partnership in which the firm's profit depends on the effort that each partner expands on the job. Suppose the the profit is $p=4(x+y+.1*x*y)$. The profit is shared equally between the two partners. Partner 1 incurs cost $c(x)=x^2$; Partner 2 incurs cost $c(y)=y^2$. Assume that x and y are between 0 and 4. Given that $BR_1(y)=1+.1*y$ and $BR_2(x)=1+.1*x$, solve for the Nash equilibrium of this game using the fixed-point approach.\n"
   ]
  },
  {
   "cell_type": "code",
   "execution_count": null,
   "metadata": {},
   "outputs": [],
   "source": []
  }
 ],
 "metadata": {
  "celltoolbar": "Slideshow",
  "hide_code_all_hidden": false,
  "kernelspec": {
   "display_name": "Python 3",
   "language": "python",
   "name": "python3"
  },
  "language_info": {
   "codemirror_mode": {
    "name": "ipython",
    "version": 3
   },
   "file_extension": ".py",
   "mimetype": "text/x-python",
   "name": "python",
   "nbconvert_exporter": "python",
   "pygments_lexer": "ipython3",
   "version": "3.8.3"
  }
 },
 "nbformat": 4,
 "nbformat_minor": 4
}
