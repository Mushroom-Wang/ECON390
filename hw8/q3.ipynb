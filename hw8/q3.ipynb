{
 "cells": [
  {
   "cell_type": "code",
   "execution_count": 1,
   "metadata": {},
   "outputs": [],
   "source": [
    "import numpy as np"
   ]
  },
  {
   "cell_type": "markdown",
   "metadata": {},
   "source": [
    "The $BR_1 (y) = 1 + 0.1y$, $BR_2 (x) = 1 + 0.1x$. \n",
    "\n",
    "On the fixpoint, $x = BR_1(y), y = BR_2(x)$, so we have the function that $g(x_i) = 1 + 0.1 \\times (1 + 0.1x_i)$ and $x_{i+1} = g(x_i)$. \n",
    "\n",
    "$x \\in [0, 4] \\implies |g'(x)| < 1 \\land g(x) \\in [0, 4]$. According to the fixed point theorem, if the initial guass $x_0 \\in [0, 4]$, it will converage to the fixed point. "
   ]
  },
  {
   "cell_type": "code",
   "execution_count": 2,
   "metadata": {},
   "outputs": [],
   "source": [
    "y = lambda x: 1 + 0.1 * x\n",
    "g = lambda x_i: 1 + 0.1 * (1 + 0.1 * x_i)"
   ]
  },
  {
   "cell_type": "code",
   "execution_count": 11,
   "metadata": {},
   "outputs": [
    {
     "name": "stdout",
     "output_type": "stream",
     "text": [
      "Converaged\n",
      "Equilibrium: (1.1111111111111112, 1.1111111111111112)\n"
     ]
    }
   ],
   "source": [
    "eps = 1e-209\n",
    "x_0 = 2\n",
    "\n",
    "x_i = x_0\n",
    "for _ in range(10000):\n",
    "    x_ip1 = g(x_i)\n",
    "    if abs(x_ip1 - x_i) < eps:\n",
    "        print(\"Converaged\")\n",
    "        break\n",
    "    x_i = x_ip1\n",
    "\n",
    "print(f\"Equilibrium: ({x_i}, {y(x_i)})\")"
   ]
  }
 ],
 "metadata": {
  "kernelspec": {
   "display_name": "Python 3",
   "language": "python",
   "name": "python3"
  },
  "language_info": {
   "codemirror_mode": {
    "name": "ipython",
    "version": 3
   },
   "file_extension": ".py",
   "mimetype": "text/x-python",
   "name": "python",
   "nbconvert_exporter": "python",
   "pygments_lexer": "ipython3",
   "version": "3.8.5"
  }
 },
 "nbformat": 4,
 "nbformat_minor": 4
}
